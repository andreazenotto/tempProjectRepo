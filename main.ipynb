{
 "cells": [
  {
   "cell_type": "code",
   "execution_count": null,
   "id": "ce9e789b",
   "metadata": {},
   "outputs": [],
   "source": [
    "import gdown\n",
    "import os\n",
    "from tqdm import tqdm\n",
    "import pandas as pd\n",
    "\n",
    "from src.wsi_utils import load_wsi, convert_to_hsv, segment_tissue, extract_patches, save_patches"
   ]
  },
  {
   "cell_type": "markdown",
   "id": "b20846b2",
   "metadata": {},
   "source": [
    "## Segmentation and Patching"
   ]
  },
  {
   "cell_type": "code",
   "execution_count": null,
   "id": "e9d4a133",
   "metadata": {},
   "outputs": [],
   "source": [
    "data_csv = \"mesothelioma_project/data/raw-data.csv\"\n",
    "output_dir = \"mesothelioma_project/data/patches\"\n",
    "\n",
    "diagnosis_map = {\"E\": \"epithelioid\", \"S\": \"sarcomatoid\", \"B\": \"biphasic\"}\n",
    "\n",
    "df = pd.read_csv(data_csv, delim_whitespace=True)\n",
    "\n",
    "for _, row in tqdm(df.iterrows(), total=len(df)):\n",
    "    filename = row['filename']\n",
    "    gdrive_id = row['id']\n",
    "    diagnosis_code = row['diagnosis']\n",
    "    diagnosis_name = diagnosis_map[diagnosis_code]\n",
    "\n",
    "    wsi_url = f\"https://drive.google.com/uc?id={gdrive_id}\"\n",
    "    gdown.download(wsi_url, quiet=False)\n",
    "\n",
    "    slide_id = os.path.splitext(filename)[0]\n",
    "    slide_output_dir = os.path.join(output_dir, diagnosis_name, slide_id)\n",
    "\n",
    "    # Load and process the WSI\n",
    "    slide = load_wsi(filename)\n",
    "    hsv_img = convert_to_hsv(slide)\n",
    "    tissue_mask = segment_tissue(hsv_img)\n",
    "    patches = extract_patches(slide)\n",
    "    save_patches(patches, slide_output_dir)"
   ]
  },
  {
   "cell_type": "code",
   "execution_count": null,
   "id": "41a3c349",
   "metadata": {},
   "outputs": [],
   "source": [
    "from google.colab import files\n",
    "import shutil\n",
    "\n",
    "# Percorso della cartella da scaricare\n",
    "folder_path = \"mesothelioma_project/data/patches\"\n",
    "\n",
    "# Nome del file zip da creare\n",
    "zip_filename = \"patches.zip\"\n",
    "\n",
    "# Comprimi la cartella\n",
    "shutil.make_archive(zip_filename.replace(\".zip\", \"\"), 'zip', folder_path)\n",
    "\n",
    "# Scarica il file zip\n",
    "files.download(zip_filename)"
   ]
  }
 ],
 "metadata": {
  "kernelspec": {
   "display_name": "Python 3",
   "language": "python",
   "name": "python3"
  },
  "language_info": {
   "name": "python",
   "version": "3.12.0"
  }
 },
 "nbformat": 4,
 "nbformat_minor": 5
}
