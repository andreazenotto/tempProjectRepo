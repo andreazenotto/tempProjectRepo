{
  "cells": [
    {
      "cell_type": "code",
      "execution_count": 1,
      "id": "a2cde661",
      "metadata": {
        "colab": {
          "base_uri": "https://localhost:8080/"
        },
        "id": "a2cde661",
        "outputId": "cafbe906-a3fd-4c2a-9b1c-a377e946da12"
      },
      "outputs": [
        {
          "output_type": "stream",
          "name": "stdout",
          "text": [
            "Cloning into 'tempProjectRepo'...\n",
            "remote: Enumerating objects: 102, done.\u001b[K\n",
            "remote: Counting objects: 100% (102/102), done.\u001b[K\n",
            "remote: Compressing objects: 100% (72/72), done.\u001b[K\n",
            "remote: Total 102 (delta 46), reused 80 (delta 24), pack-reused 0 (from 0)\u001b[K\n",
            "Receiving objects: 100% (102/102), 18.01 KiB | 9.00 MiB/s, done.\n",
            "Resolving deltas: 100% (46/46), done.\n"
          ]
        }
      ],
      "source": [
        "!git clone https://github.com/andreazenotto/tempProjectRepo.git"
      ]
    },
    {
      "cell_type": "code",
      "execution_count": 2,
      "id": "f4fc5c38",
      "metadata": {
        "id": "f4fc5c38"
      },
      "outputs": [],
      "source": [
        "%%capture\n",
        "!apt update && apt install -y openslide-tools\n",
        "!pip install openslide-python"
      ]
    },
    {
      "cell_type": "code",
      "execution_count": 3,
      "id": "ce9e789b",
      "metadata": {
        "id": "ce9e789b"
      },
      "outputs": [],
      "source": [
        "import gdown\n",
        "import os\n",
        "from tqdm import tqdm\n",
        "import pandas as pd\n",
        "import sys\n",
        "\n",
        "sys.path.append('tempProjectRepo/mesothelioma_project/src')\n",
        "from wsi_utils import load_wsi, extract_patches, count_patches"
      ]
    },
    {
      "cell_type": "code",
      "execution_count": 4,
      "id": "097c45a3",
      "metadata": {
        "id": "097c45a3"
      },
      "outputs": [],
      "source": [
        "data_csv = \"tempProjectRepo/mesothelioma_project/data/raw-data.csv\"\n",
        "output_dir = \"tempProjectRepo/mesothelioma_project/data/patches\"\n",
        "\n",
        "diagnosis_map = {\"E\": \"epithelioid\", \"S\": \"sarcomatoid\", \"B\": \"biphasic\"}\n",
        "\n",
        "df = pd.read_csv(data_csv, delimiter=r\"\\s+\")\n",
        "start_idx = 0\n",
        "end_idx = len(df)"
      ]
    },
    {
      "cell_type": "markdown",
      "id": "32abfa0f",
      "metadata": {
        "id": "32abfa0f"
      },
      "source": [
        "## Finetuning satTresh on the patches of the first slide"
      ]
    },
    {
      "cell_type": "code",
      "execution_count": null,
      "id": "eb1dcb00",
      "metadata": {
        "id": "eb1dcb00"
      },
      "outputs": [],
      "source": [
        "slide = load_wsi(\"M-1.ndpi\")\n",
        "values = [23, 25, 27, 29, 30]\n",
        "\n",
        "for satThresh in values:\n",
        "    print(f\"Tresh = {satThresh} -> {count_patches(slide, \"patches_test\", level=1, thresh=satThresh)}\")"
      ]
    },
    {
      "cell_type": "markdown",
      "source": [
        "## Download wsi dataset"
      ],
      "metadata": {
        "id": "O878cX22b9-I"
      },
      "id": "O878cX22b9-I"
    },
    {
      "cell_type": "code",
      "source": [
        "import os\n",
        "import shutil\n",
        "\n",
        "!kaggle datasets download -d andreazenotto/wsi-part1\n",
        "!unzip -q \"wsi-part1.zip\"\n",
        "os.remove(\"wsi-part1.zip\")\n",
        "!mkdir -p wsi\n",
        "shutil.move(\"wsi_part1\", \"wsi\")\n",
        "shutil.rmtree(\"wsi_part1\")"
      ],
      "metadata": {
        "colab": {
          "base_uri": "https://localhost:8080/",
          "height": 483
        },
        "id": "BGPWSKpjaw5E",
        "outputId": "7b3cb6d3-51b1-45a8-8eac-562a864decfa"
      },
      "id": "BGPWSKpjaw5E",
      "execution_count": 5,
      "outputs": [
        {
          "output_type": "stream",
          "name": "stdout",
          "text": [
            "Traceback (most recent call last):\n",
            "  File \"/usr/local/bin/kaggle\", line 10, in <module>\n",
            "    sys.exit(main())\n",
            "             ^^^^^^\n",
            "  File \"/usr/local/lib/python3.11/dist-packages/kaggle/cli.py\", line 68, in main\n",
            "    out = args.func(**command_args)\n",
            "          ^^^^^^^^^^^^^^^^^^^^^^^^^\n",
            "  File \"/usr/local/lib/python3.11/dist-packages/kaggle/api/kaggle_api_extended.py\", line 1741, in dataset_download_cli\n",
            "    with self.build_kaggle_client() as kaggle:\n",
            "         ^^^^^^^^^^^^^^^^^^^^^^^^^^\n",
            "  File \"/usr/local/lib/python3.11/dist-packages/kaggle/api/kaggle_api_extended.py\", line 688, in build_kaggle_client\n",
            "    username=self.config_values['username'],\n",
            "             ~~~~~~~~~~~~~~~~~~^^^^^^^^^^^^\n",
            "KeyError: 'username'\n",
            "unzip:  cannot find or open wsi-part1.zip, wsi-part1.zip.zip or wsi-part1.zip.ZIP.\n"
          ]
        },
        {
          "output_type": "error",
          "ename": "FileNotFoundError",
          "evalue": "[Errno 2] No such file or directory: 'wsi-part1.zip'",
          "traceback": [
            "\u001b[0;31m---------------------------------------------------------------------------\u001b[0m",
            "\u001b[0;31mFileNotFoundError\u001b[0m                         Traceback (most recent call last)",
            "\u001b[0;32m<ipython-input-5-e04952555a2c>\u001b[0m in \u001b[0;36m<cell line: 0>\u001b[0;34m()\u001b[0m\n\u001b[1;32m      4\u001b[0m \u001b[0mget_ipython\u001b[0m\u001b[0;34m(\u001b[0m\u001b[0;34m)\u001b[0m\u001b[0;34m.\u001b[0m\u001b[0msystem\u001b[0m\u001b[0;34m(\u001b[0m\u001b[0;34m'kaggle datasets download -d andreazenotto/wsi-part1'\u001b[0m\u001b[0;34m)\u001b[0m\u001b[0;34m\u001b[0m\u001b[0;34m\u001b[0m\u001b[0m\n\u001b[1;32m      5\u001b[0m \u001b[0mget_ipython\u001b[0m\u001b[0;34m(\u001b[0m\u001b[0;34m)\u001b[0m\u001b[0;34m.\u001b[0m\u001b[0msystem\u001b[0m\u001b[0;34m(\u001b[0m\u001b[0;34m'unzip -q \"wsi-part1.zip\"'\u001b[0m\u001b[0;34m)\u001b[0m\u001b[0;34m\u001b[0m\u001b[0;34m\u001b[0m\u001b[0m\n\u001b[0;32m----> 6\u001b[0;31m \u001b[0mos\u001b[0m\u001b[0;34m.\u001b[0m\u001b[0mremove\u001b[0m\u001b[0;34m(\u001b[0m\u001b[0;34m\"wsi-part1.zip\"\u001b[0m\u001b[0;34m)\u001b[0m\u001b[0;34m\u001b[0m\u001b[0;34m\u001b[0m\u001b[0m\n\u001b[0m\u001b[1;32m      7\u001b[0m \u001b[0mget_ipython\u001b[0m\u001b[0;34m(\u001b[0m\u001b[0;34m)\u001b[0m\u001b[0;34m.\u001b[0m\u001b[0msystem\u001b[0m\u001b[0;34m(\u001b[0m\u001b[0;34m'mkdir -p wsi'\u001b[0m\u001b[0;34m)\u001b[0m\u001b[0;34m\u001b[0m\u001b[0;34m\u001b[0m\u001b[0m\n\u001b[1;32m      8\u001b[0m \u001b[0mshutil\u001b[0m\u001b[0;34m.\u001b[0m\u001b[0mmove\u001b[0m\u001b[0;34m(\u001b[0m\u001b[0;34m\"wsi_part1\"\u001b[0m\u001b[0;34m,\u001b[0m \u001b[0;34m\"wsi\"\u001b[0m\u001b[0;34m)\u001b[0m\u001b[0;34m\u001b[0m\u001b[0;34m\u001b[0m\u001b[0m\n",
            "\u001b[0;31mFileNotFoundError\u001b[0m: [Errno 2] No such file or directory: 'wsi-part1.zip'"
          ]
        }
      ]
    },
    {
      "cell_type": "code",
      "source": [
        "!kaggle datasets download -d xxx/wsi-part2\n",
        "!unzip -q \"wsi-part2.zip\"\n",
        "os.remove(\"wsi-part2.zip\")\n",
        "!mkdir -p wsi\n",
        "shutil.move(\"wsi_part2\", \"wsi\")\n",
        "shutil.rmtree(\"wsi_part2\")"
      ],
      "metadata": {
        "id": "j9iUDeLWbz7D"
      },
      "id": "j9iUDeLWbz7D",
      "execution_count": null,
      "outputs": []
    },
    {
      "cell_type": "code",
      "source": [
        "!kaggle datasets download -d xxx/wsi-part3\n",
        "!unzip -q \"wsi-part3.zip\"\n",
        "os.remove(\"wsi-part3.zip\")\n",
        "!mkdir -p wsi\n",
        "shutil.move(\"wsi_part3\", \"wsi\")\n",
        "shutil.rmtree(\"wsi_part3\")"
      ],
      "metadata": {
        "id": "d7B5XbnRb4-u"
      },
      "id": "d7B5XbnRb4-u",
      "execution_count": null,
      "outputs": []
    },
    {
      "cell_type": "markdown",
      "id": "6d4c2c52",
      "metadata": {
        "id": "6d4c2c52"
      },
      "source": [
        "## Count patches"
      ]
    },
    {
      "cell_type": "code",
      "execution_count": null,
      "id": "7838aac9",
      "metadata": {
        "id": "7838aac9"
      },
      "outputs": [],
      "source": [
        "def topk_wsi_names(dict_count_patches, k=5):\n",
        "\n",
        "    # print(dict_count_patches)\n",
        "\n",
        "    # Idea to realize the function\n",
        "    # get all names, then create three masks:\n",
        "    # - e_mask, b_mask, s_mask\n",
        "    # for key in keys key.split('_')[1], then store info about index in the corresponding mask\n",
        "\n",
        "    d_keys = list(dict_count_patches.keys())\n",
        "\n",
        "    # Mask to each label\n",
        "    e_mask = np.zeros(len(d_keys))\n",
        "    b_mask = np.zeros(len(d_keys))\n",
        "    s_mask = np.zeros(len(d_keys))\n",
        "    for index in range(len(d_keys)):\n",
        "        if 'epithelioid' in d_keys[index]:\n",
        "            e_mask[index] = 1\n",
        "        elif 'biphasic' in d_keys[index]:\n",
        "            b_mask[index] = 1\n",
        "        else:\n",
        "            s_mask[index] = 1\n",
        "\n",
        "    # flatter the dict to a list of values ( order is immutated )\n",
        "    np_dict = np.array(list(dict_count_patches.values()))\n",
        "\n",
        "    # get top k featuers for each label ( index i position is the i-th 1 element in mask )\n",
        "    e_topk_indices = np.argpartition(np_dict[e_mask == 1], -k)[-k:]\n",
        "    b_topk_indices = np.argpartition(np_dict[b_mask == 1], -k)[-k:]\n",
        "    s_topk_indices = np.argpartition(np_dict[s_mask == 1], -k)[-k:]\n",
        "\n",
        "    # compute original position with respect to the original dictionary\n",
        "    combinations = [(e_topk_indices, e_mask, 'e'), (b_topk_indices, b_mask, 'b'), (s_topk_indices, s_mask, 's')]\n",
        "\n",
        "    # devo prendere, tra gli indici marcati come 1 in e_mask, gli indici in posizione 1 e in posizione 2 ( scarto prendo prendo scarto)\n",
        "    topk_indices = []\n",
        "    for topk_list, mask, label in combinations:\n",
        "      indices_of_interest = []\n",
        "      #  print(topk_list, mask, label)\n",
        "      for i in range(len(topk_list)):\n",
        "          index = topk_list[i]\n",
        "          for j in range(len(mask)):\n",
        "              if mask[j] == 1:\n",
        "                  if index == 0:\n",
        "                    indices_of_interest.append(j)\n",
        "                    break\n",
        "                  else:\n",
        "                    index -= 1\n",
        "                    continue\n",
        "              else:\n",
        "                  continue\n",
        "\n",
        "      # collecting all indices to easy extract only that ones in the next cell\n",
        "      topk_indices.extend(indices_of_interest)\n",
        "      print(f\"Top {k} indices for label {label}:\", end='\\t')\n",
        "      for index in indices_of_interest:\n",
        "        print(d_keys[index], end= '\\t')\n",
        "      print()\n",
        "\n",
        "      return topk_indices"
      ]
    },
    {
      "cell_type": "code",
      "execution_count": null,
      "id": "36347dd9",
      "metadata": {
        "id": "36347dd9"
      },
      "outputs": [],
      "source": [
        "count_dict = {}\n",
        "start_idx = 1\n",
        "end_idx = 40\n",
        "\n",
        "for _, row in tqdm(df.iloc[start_idx:end_idx].iterrows(), total=len(df)):\n",
        "    filename = row['filename']\n",
        "    gdrive_id = row['id']\n",
        "    diagnosis_code = row['diagnosis']\n",
        "    diagnosis_name = diagnosis_map[diagnosis_code]\n",
        "\n",
        "    name = filename.split(\".\")[0] + \" - \" + diagnosis_name\n",
        "    count_dict[name] = 0\n",
        "\n",
        "    slide_id = os.path.splitext(filename)[0]\n",
        "    slide_output_dir = os.path.join(output_dir, diagnosis_name, slide_id)\n",
        "\n",
        "    # Load and process the WSI\n",
        "    slide = load_wsi(os.path.join(\"wsi\", filename))\n",
        "    count_dict[filename] = count_patches(slide, slide_output_dir, level=1)\n",
        "\n",
        "topk_indices = topk_wsi_names(count_dict, k=5)"
      ]
    },
    {
      "cell_type": "markdown",
      "id": "b20846b2",
      "metadata": {
        "id": "b20846b2"
      },
      "source": [
        "## Segmentation and Patching"
      ]
    },
    {
      "cell_type": "code",
      "execution_count": null,
      "id": "e9d4a133",
      "metadata": {
        "id": "e9d4a133"
      },
      "outputs": [],
      "source": [
        "for _, row in tqdm(df.iloc[topk_indices].iterrows(), total=len(df)):\n",
        "    filename = row['filename']\n",
        "    gdrive_id = row['id']\n",
        "    diagnosis_code = row['diagnosis']\n",
        "    diagnosis_name = diagnosis_map[diagnosis_code]\n",
        "\n",
        "    slide_id = os.path.splitext(filename)[0]\n",
        "    slide_output_dir = os.path.join(output_dir, diagnosis_name, slide_id)\n",
        "\n",
        "    # Load and process the WSI\n",
        "    slide = load_wsi(os.path.join(\"wsi\", filename))\n",
        "    extract_patches(slide, slide_output_dir, level=1, threshold=30)"
      ]
    },
    {
      "cell_type": "code",
      "execution_count": null,
      "id": "41a3c349",
      "metadata": {
        "id": "41a3c349"
      },
      "outputs": [],
      "source": [
        "from google.colab import files\n",
        "import shutil\n",
        "\n",
        "# Percorso della cartella da scaricare\n",
        "folder_path = \"tempProjectRepo/mesothelioma_project/data/patches\"\n",
        "\n",
        "# Nome del file zip da creare\n",
        "zip_filename = \"patches.zip\"\n",
        "\n",
        "# Comprimi la cartella\n",
        "shutil.make_archive(zip_filename.replace(\".zip\", \"\"), 'zip', folder_path)\n",
        "\n",
        "# Scarica il file zip\n",
        "files.download(zip_filename)"
      ]
    }
  ],
  "metadata": {
    "kernelspec": {
      "display_name": "Python 3",
      "language": "python",
      "name": "python3"
    },
    "language_info": {
      "codemirror_mode": {
        "name": "ipython",
        "version": 3
      },
      "file_extension": ".py",
      "mimetype": "text/x-python",
      "name": "python",
      "nbconvert_exporter": "python",
      "pygments_lexer": "ipython3",
      "version": "3.12.0"
    },
    "colab": {
      "provenance": []
    }
  },
  "nbformat": 4,
  "nbformat_minor": 5
}