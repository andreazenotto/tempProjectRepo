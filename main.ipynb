{
  "cells": [
    {
      "cell_type": "code",
      "execution_count": 1,
      "id": "a2cde661",
      "metadata": {
        "colab": {
          "base_uri": "https://localhost:8080/"
        },
        "id": "a2cde661",
        "outputId": "2bef382d-456c-4b80-9579-ccb5d69f07db"
      },
      "outputs": [
        {
          "name": "stdout",
          "output_type": "stream",
          "text": [
            "Cloning into 'tempProjectRepo'...\n",
            "remote: Enumerating objects: 114, done.\u001b[K\n",
            "remote: Counting objects: 100% (114/114), done.\u001b[K\n",
            "remote: Compressing objects: 100% (79/79), done.\u001b[K\n",
            "remote: Total 114 (delta 51), reused 92 (delta 29), pack-reused 0 (from 0)\u001b[K\n",
            "Receiving objects: 100% (114/114), 22.68 KiB | 7.56 MiB/s, done.\n",
            "Resolving deltas: 100% (51/51), done.\n"
          ]
        }
      ],
      "source": [
        "!git clone https://github.com/andreazenotto/tempProjectRepo.git"
      ]
    },
    {
      "cell_type": "code",
      "execution_count": 1,
      "id": "f4fc5c38",
      "metadata": {
        "id": "f4fc5c38"
      },
      "outputs": [],
      "source": [
        "%%capture\n",
        "!apt update && apt install -y openslide-tools\n",
        "!pip install openslide-python"
      ]
    },
    {
      "cell_type": "code",
      "execution_count": 2,
      "id": "ce9e789b",
      "metadata": {
        "id": "ce9e789b"
      },
      "outputs": [],
      "source": [
        "import gdown\n",
        "import os\n",
        "from tqdm import tqdm\n",
        "import pandas as pd\n",
        "import sys\n",
        "import shutil\n",
        "import numpy as np\n",
        "\n",
        "sys.path.append('tempProjectRepo/mesothelioma_project/src')\n",
        "from wsi_utils import load_wsi, extract_patches, count_patches"
      ]
    },
    {
      "cell_type": "code",
      "execution_count": 3,
      "id": "097c45a3",
      "metadata": {
        "id": "097c45a3"
      },
      "outputs": [],
      "source": [
        "data_csv = \"tempProjectRepo/mesothelioma_project/data/raw-data.csv\"\n",
        "output_dir = \"tempProjectRepo/mesothelioma_project/data/patches\"\n",
        "\n",
        "diagnosis_map = {\"E\": \"epithelioid\", \"S\": \"sarcomatoid\", \"B\": \"biphasic\"}\n",
        "\n",
        "df = pd.read_csv(data_csv, delimiter=r\"\\s+\")"
      ]
    },
    {
      "cell_type": "markdown",
      "id": "32abfa0f",
      "metadata": {
        "id": "32abfa0f"
      },
      "source": [
        "## Finetuning satTresh on the patches of the first slide"
      ]
    },
    {
      "cell_type": "code",
      "execution_count": 15,
      "id": "eb1dcb00",
      "metadata": {
        "colab": {
          "base_uri": "https://localhost:8080/"
        },
        "id": "eb1dcb00",
        "outputId": "5ad62ff2-1ca6-4c08-94a8-0311061e7069"
      },
      "outputs": [
        {
          "name": "stdout",
          "output_type": "stream",
          "text": [
            "Tresh = 15 -> 5284\n",
            "Tresh = 20 -> 3973\n",
            "Tresh = 25 -> 3591\n",
            "Tresh = 30 -> 3369\n",
            "Tresh = 35 -> 3133\n",
            "Tresh = 40 -> 2922\n"
          ]
        }
      ],
      "source": [
        "slide = load_wsi(\"M-1.ndpi\")\n",
        "values = range(15, 45, 5)\n",
        "dir = \"patches_test\"\n",
        "\n",
        "for satThresh in values:\n",
        "    print(f\"Tresh = {satThresh} -> {count_patches(slide, 1, satThresh)}\")"
      ]
    },
    {
      "cell_type": "markdown",
      "id": "6d4c2c52",
      "metadata": {
        "id": "6d4c2c52"
      },
      "source": [
        "## Count patches"
      ]
    },
    {
      "cell_type": "code",
      "execution_count": 21,
      "id": "36347dd9",
      "metadata": {
        "colab": {
          "base_uri": "https://localhost:8080/"
        },
        "id": "36347dd9",
        "outputId": "6dcbc78a-7133-4471-98fd-df4d2ca32f04"
      },
      "outputs": [
        {
          "name": "stdout",
          "output_type": "stream",
          "text": [
            "{'M-1_b': 3369, 'M-2_e': 4881, 'M-3_e': 1884, 'M-4_e': 2787, 'M-5_e': 5104, 'M-6_b': 3649, 'M-7_e': 369, 'M-8_e': 1772, 'M-9_e': 1308, 'M-10_e': 2305, 'M-11_e': 1151, 'M-12_e': 1965, 'M-13_e': 8193, 'M-14_e': 3052, 'M-15_e': 851, 'M-16_e': 1687, 'M-17_e': 3466, 'M-18_e': 2136, 'M-19_e': 3329, 'M-20_e': 1402, 'M-21_e': 881, 'M-22_e': 3677, 'M-23_e': 3966, 'M-24_b': 2414, 'M-25_e': 1507, 'M-26_e': 3502, 'M-27_e': 5910, 'M-28_e': 1594, 'M-29_e': 5198, 'M-30_b': 4696, 'M-31_e': 737, 'M-32_b': 3951, 'M-33_e': 3023, 'M-34_e': 4370, 'M-35_e': 2746, 'M-37_e': 3069, 'M-38_e': 4032, 'M-39_e': 6056, 'M-40_b': 368, 'M-41_e': 186, 'M-42_e': 1136, 'M-43_e': 19, 'M-44_e': 1186, 'M-45_e': 6439, 'M-46_e': 5111, 'M-47_b': 548, 'M-48_e': 1206, 'M-49_e': 1979, 'M-50_e': 2002, 'M-51_b': 3006, 'M-52_e': 5701, 'M-53_e': 6762, 'M-54_e': 1851, 'M-55_e': 3516, 'M-56_e': 5695, 'M-57_e': 2745, 'M-58_e': 5367, 'M-59_e': 7822, 'M-60_e': 7646, 'M-61_e': 1047, 'M-62_b': 1317, 'M-63_e': 2320, 'M-64_e': 4319, 'M-65_s': 1529, 'M-66_e': 3410, 'M-67_e': 395, 'M-68_e': 9151, 'M-69_e': 3804, 'M-70_e': 8292, 'M-71_b': 3550, 'M-72_e': 2803, 'M-73_b': 6307, 'M-74_e': 1818, 'M-75_e': 737, 'M-77_e': 4507, 'M-78_e': 2836, 'M-79_b': 1200, 'M-80_e': 3098, 'M-81_e': 3974, 'M-82_b': 1397, 'M-83_e': 2334, 'M-84_e': 6668, 'M-85_e': 9304, 'M-86_s': 5422, 'M-87_s': 11723, 'M-88_e': 6837, 'M-89_e': 2071, 'M-90_b': 8953, 'M-91_e': 5239, 'M-92_b': 10405, 'M-93_e': 125, 'M-94_e': 2, 'M-97_e': 1566, 'M-98_e': 835, 'M-99_e': 1339, 'M-100_e': 1705, 'M-101_s': 1557, 'M-102_e': 4172, 'M-103_e': 368, 'M-104_b': 1253, 'M-105_b': 1229, 'M-108_b': 8707, 'M-109_e': 346, 'M-110_e': 404, 'M-111_e': 1714, 'M-112_b': 3805, 'M-113_e': 208, 'M-114_s': 8224, 'M-115_e': 1640, 'M-116_e': 2755, 'M-118_e': 5998, 'M-119_e': 2115, 'M-120_e': 1558, 'M-121_b': 1246, 'M-122_e': 4641, 'M-124_e': 1732}\n"
          ]
        }
      ],
      "source": [
        "count_dict = {}\n",
        "\n",
        "for _, row in df.iloc[:].iterrows():\n",
        "    filename = row['filename']\n",
        "    gdrive_id = row['id']\n",
        "    diagnosis_code = row['diagnosis']\n",
        "\n",
        "    name = filename.split(\".\")[0] + \"_\" + diagnosis_code.lower()\n",
        "    count_dict[name] = 0\n",
        "\n",
        "    gdown.download(id=gdrive_id, quiet=True)\n",
        "\n",
        "    # Load the WSI and count the patches\n",
        "    slide = load_wsi(filename)\n",
        "    count_dict[name] = count_patches(slide)\n",
        "\n",
        "print(count_dict)"
      ]
    },
    {
      "cell_type": "code",
      "execution_count": 26,
      "id": "S9p53hfvU3fS",
      "metadata": {
        "id": "S9p53hfvU3fS"
      },
      "outputs": [],
      "source": [
        "def topk_wsi_names(dict_count_patches, k=5):\n",
        "\n",
        "    # print(dict_count_patches)\n",
        "\n",
        "    # Idea to realize the function\n",
        "    # get all names, then create three masks:\n",
        "    # - e_mask, b_mask, s_mask\n",
        "    # for key in keys key.split('_')[1], then store info about index in the corresponding mask\n",
        "\n",
        "    d_keys = list(dict_count_patches.keys())\n",
        "\n",
        "    # Mask to each label\n",
        "    e_mask = np.zeros(len(d_keys))\n",
        "    b_mask = np.zeros(len(d_keys))\n",
        "    s_mask = np.zeros(len(d_keys))\n",
        "    for index in range(len(d_keys)):\n",
        "        if 'e' in d_keys[index]:\n",
        "            e_mask[index] = 1\n",
        "        elif 'b' in d_keys[index]:\n",
        "            b_mask[index] = 1\n",
        "        else:\n",
        "            s_mask[index] = 1\n",
        "\n",
        "    # flatter the dict to a list of values ( order is immutated )\n",
        "    np_dict = np.array(list(dict_count_patches.values()))\n",
        "\n",
        "    # get top k featuers for each label ( index i position is the i-th 1 element in mask )\n",
        "    e_topk_indices = np.argpartition(np_dict[e_mask == 1], k-1)[-k:]\n",
        "    b_topk_indices = np.argpartition(np_dict[b_mask == 1], k-1)[-k:]\n",
        "    s_topk_indices = np.argpartition(np_dict[s_mask == 1], k-1)[-k:]\n",
        "\n",
        "    # compute original position with respect to the original dictionary\n",
        "    combinations = [(e_topk_indices, e_mask, 'e'), (b_topk_indices, b_mask, 'b'), (s_topk_indices, s_mask, 's')]\n",
        "\n",
        "    # devo prendere, tra gli indici marcati come 1 in e_mask, gli indici in posizione 1 e in posizione 2 ( scarto prendo prendo scarto)\n",
        "    topk_indices = []\n",
        "    for topk_list, mask, label in combinations:\n",
        "      indices_of_interest = []\n",
        "      #  print(topk_list, mask, label)\n",
        "      for i in range(len(topk_list)):\n",
        "          index = topk_list[i]\n",
        "          for j in range(len(mask)):\n",
        "              if mask[j] == 1:\n",
        "                  if index == 0:\n",
        "                    indices_of_interest.append(j)\n",
        "                    break\n",
        "                  else:\n",
        "                    index -= 1\n",
        "                    continue\n",
        "              else:\n",
        "                  continue\n",
        "        # collecting all indices to easy extract only that ones in the next cell\n",
        "      topk_indices.extend(indices_of_interest)\n",
        "      print(f\"Top {k} indices for label {label}:\", end='\\t')\n",
        "      for index in indices_of_interest:\n",
        "        print(d_keys[index], end= '\\t')\n",
        "      print()\n",
        "\n",
        "    return topk_indices"
      ]
    },
    {
      "cell_type": "code",
      "execution_count": 28,
      "id": "jRhtmxKujDt-",
      "metadata": {
        "colab": {
          "base_uri": "https://localhost:8080/"
        },
        "id": "jRhtmxKujDt-",
        "outputId": "9260f3db-e6d7-4ab3-9c5a-f4dc1da26032"
      },
      "outputs": [
        {
          "name": "stdout",
          "output_type": "stream",
          "text": [
            "Top 5 indices for label e:\tM-59_e\tM-13_e\tM-70_e\tM-68_e\tM-85_e\t\n",
            "Top 5 indices for label b:\tM-30_b\tM-73_b\tM-108_b\tM-90_b\tM-92_b\t\n",
            "Top 5 indices for label s:\tM-65_s\tM-101_s\tM-86_s\tM-114_s\tM-87_s\t\n"
          ]
        }
      ],
      "source": [
        "topk_indices = topk_wsi_names(count_dict, k=5)"
      ]
    },
    {
      "cell_type": "markdown",
      "id": "b20846b2",
      "metadata": {
        "id": "b20846b2"
      },
      "source": [
        "## Segmentation and Patching"
      ]
    },
    {
      "cell_type": "code",
      "execution_count": 5,
      "id": "Pxvi20tQ4SvZ",
      "metadata": {
        "id": "Pxvi20tQ4SvZ"
      },
      "outputs": [],
      "source": [
        "topk_indices = [57, 12, 68, 66, 82, 29, 71, 101, 87, 89, 63, 96, 83, 107, 84]"
      ]
    },
    {
      "cell_type": "code",
      "execution_count": null,
      "id": "e9d4a133",
      "metadata": {
        "id": "e9d4a133"
      },
      "outputs": [],
      "source": [
        "for _, row in tqdm(df.iloc[topk_indices].iterrows(), total=len(topk_indices)):\n",
        "    filename = row['filename']\n",
        "    gdrive_id = row['id']\n",
        "    diagnosis_code = row['diagnosis']\n",
        "    diagnosis_name = diagnosis_map[diagnosis_code]\n",
        "\n",
        "    down.download(id=gdrive_id, quiet=True)\n",
        "\n",
        "    slide_id = os.path.splitext(filename)[0]\n",
        "    slide_output_dir = os.path.join(output_dir, diagnosis_name, slide_id)\n",
        "\n",
        "    # Load and process the WSI\n",
        "    slide = load_wsi(os.path.join(drive_path, filename))\n",
        "    extract_patches(slide, slide_output_dir)"
      ]
    }
  ],
  "metadata": {
    "colab": {
      "collapsed_sections": [
        "32abfa0f",
        "6d4c2c52"
      ],
      "provenance": []
    },
    "kernelspec": {
      "display_name": "Python 3",
      "language": "python",
      "name": "python3"
    },
    "language_info": {
      "codemirror_mode": {
        "name": "ipython",
        "version": 3
      },
      "file_extension": ".py",
      "mimetype": "text/x-python",
      "name": "python",
      "nbconvert_exporter": "python",
      "pygments_lexer": "ipython3",
      "version": "3.12.0"
    }
  },
  "nbformat": 4,
  "nbformat_minor": 5
}
