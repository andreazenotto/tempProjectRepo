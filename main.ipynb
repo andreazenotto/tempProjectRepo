{
 "cells": [
  {
   "cell_type": "code",
   "execution_count": null,
   "id": "a2cde661",
   "metadata": {},
   "outputs": [],
   "source": [
    "!git clone https://github.com/andreazenotto/tempProjectRepo.git"
   ]
  },
  {
   "cell_type": "code",
   "execution_count": null,
   "id": "f4fc5c38",
   "metadata": {},
   "outputs": [],
   "source": [
    "%%capture\n",
    "!apt update && apt install -y openslide-tools\n",
    "!pip install openslide-python"
   ]
  },
  {
   "cell_type": "code",
   "execution_count": null,
   "id": "ce9e789b",
   "metadata": {},
   "outputs": [],
   "source": [
    "import gdown\n",
    "import os\n",
    "from tqdm import tqdm\n",
    "import pandas as pd\n",
    "import sys\n",
    "\n",
    "sys.path.append('tempProjectRepo/mesothelioma_project/src')\n",
    "from wsi_utils import load_wsi, extract_patches, count_patches"
   ]
  },
  {
   "cell_type": "markdown",
   "id": "6d4c2c52",
   "metadata": {},
   "source": [
    "## Count patches"
   ]
  },
  {
   "cell_type": "code",
   "execution_count": null,
   "id": "36347dd9",
   "metadata": {},
   "outputs": [],
   "source": [
    "data_csv = \"tempProjectRepo/mesothelioma_project/data/raw-data.csv\"\n",
    "output_dir = \"tempProjectRepo/mesothelioma_project/data/patches\"\n",
    "\n",
    "diagnosis_map = {\"E\": \"epithelioid\", \"S\": \"sarcomatoid\", \"B\": \"biphasic\"}\n",
    "\n",
    "df = pd.read_csv(data_csv, delimiter=r\"\\s+\")\n",
    "start_idx = 0\n",
    "end_idx = len(df)\n",
    "\n",
    "count_dict = {}\n",
    "\n",
    "for _, row in tqdm(df.iloc[start_idx:end_idx].iterrows(), total=len(df)):\n",
    "    filename = row['filename']\n",
    "    gdrive_id = row['id']\n",
    "    diagnosis_code = row['diagnosis']\n",
    "    diagnosis_name = diagnosis_map[diagnosis_code]\n",
    "\n",
    "    name = filename.split(\".\")[0] + \" - \" + diagnosis_name\n",
    "    count_dict[name] = 0\n",
    "\n",
    "    wsi_url = f\"https://drive.google.com/uc?id={gdrive_id}\"\n",
    "    gdown.download(wsi_url, quiet=False)\n",
    "\n",
    "    slide_id = os.path.splitext(filename)[0]\n",
    "    slide_output_dir = os.path.join(output_dir, diagnosis_name, slide_id)\n",
    "\n",
    "    # Load and process the WSI\n",
    "    slide = load_wsi(filename)\n",
    "    count_dict[filename] = count_patches(slide, slide_output_dir, level=1)\n",
    "\n",
    "# Sort the dictionary by values in descending order\n",
    "sorted_count_dict = dict(sorted(count_dict.items(), key=lambda item: item[1], reverse=True))"
   ]
  },
  {
   "cell_type": "markdown",
   "id": "b20846b2",
   "metadata": {},
   "source": [
    "## Segmentation and Patching"
   ]
  },
  {
   "cell_type": "code",
   "execution_count": null,
   "id": "e9d4a133",
   "metadata": {},
   "outputs": [],
   "source": [
    "data_csv = \"tempProjectRepo/mesothelioma_project/data/raw-data.csv\"\n",
    "output_dir = \"tempProjectRepo/mesothelioma_project/data/patches\"\n",
    "\n",
    "diagnosis_map = {\"E\": \"epithelioid\", \"S\": \"sarcomatoid\", \"B\": \"biphasic\"}\n",
    "\n",
    "df = pd.read_csv(data_csv, delimiter=r\"\\s+\")\n",
    "start_idx = 0\n",
    "end_idx = len(df)\n",
    "\n",
    "for _, row in tqdm(df.iloc[start_idx:end_idx].iterrows(), total=len(df)):\n",
    "    filename = row['filename']\n",
    "    gdrive_id = row['id']\n",
    "    diagnosis_code = row['diagnosis']\n",
    "    diagnosis_name = diagnosis_map[diagnosis_code]\n",
    "\n",
    "    wsi_url = f\"https://drive.google.com/uc?id={gdrive_id}\"\n",
    "    gdown.download(wsi_url, quiet=False)\n",
    "\n",
    "    slide_id = os.path.splitext(filename)[0]\n",
    "    slide_output_dir = os.path.join(output_dir, diagnosis_name, slide_id)\n",
    "\n",
    "    # Load and process the WSI\n",
    "    slide = load_wsi(filename)\n",
    "    extract_patches(slide, slide_output_dir, level=1, threshold=30)"
   ]
  },
  {
   "cell_type": "code",
   "execution_count": null,
   "id": "41a3c349",
   "metadata": {},
   "outputs": [],
   "source": [
    "from google.colab import files\n",
    "import shutil\n",
    "\n",
    "# Percorso della cartella da scaricare\n",
    "folder_path = \"tempProjectRepo/mesothelioma_project/data/patches\"\n",
    "\n",
    "# Nome del file zip da creare\n",
    "zip_filename = \"patches.zip\"\n",
    "\n",
    "# Comprimi la cartella\n",
    "shutil.make_archive(zip_filename.replace(\".zip\", \"\"), 'zip', folder_path)\n",
    "\n",
    "# Scarica il file zip\n",
    "files.download(zip_filename)"
   ]
  }
 ],
 "metadata": {
  "kernelspec": {
   "display_name": "Python 3",
   "language": "python",
   "name": "python3"
  },
  "language_info": {
   "codemirror_mode": {
    "name": "ipython",
    "version": 3
   },
   "file_extension": ".py",
   "mimetype": "text/x-python",
   "name": "python",
   "nbconvert_exporter": "python",
   "pygments_lexer": "ipython3",
   "version": "3.12.0"
  }
 },
 "nbformat": 4,
 "nbformat_minor": 5
}
