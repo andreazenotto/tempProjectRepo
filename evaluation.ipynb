{
 "cells": [
  {
   "cell_type": "code",
   "execution_count": null,
   "metadata": {
    "execution": {
     "iopub.execute_input": "2025-07-06T12:11:58.723238Z",
     "iopub.status.busy": "2025-07-06T12:11:58.722954Z",
     "iopub.status.idle": "2025-07-06T12:12:20.878610Z",
     "shell.execute_reply": "2025-07-06T12:12:20.877894Z",
     "shell.execute_reply.started": "2025-07-06T12:11:58.723216Z"
    },
    "id": "ce9e789b",
    "trusted": true
   },
   "outputs": [],
   "source": [
    "import os\n",
    "from tqdm import tqdm\n",
    "import sys\n",
    "import shutil\n",
    "import numpy as np\n",
    "import tensorflow as tf\n",
    "\n",
    "tf.keras.utils.set_random_seed(10)\n",
    "tf.config.experimental.enable_op_determinism()\n",
    "\n",
    "!git clone https://github.com/andreazenotto/tempProjectRepo.git\n",
    "\n",
    "sys.path.append('tempProjectRepo/mesothelioma_project/src')\n",
    "\n",
    "from simclr import *\n",
    "from attention_mil import *"
   ]
  },
  {
   "cell_type": "markdown",
   "metadata": {},
   "source": [
    "# Inference\n",
    "We evaluate the performances of our proposal model and a standard CNN (the same as our backbone)"
   ]
  },
  {
   "cell_type": "markdown",
   "metadata": {},
   "source": [
    "## camel-inference-dataset\n",
    "This dataset is made of 8 WSI: 4 epithelioid and 4 biphasic, used for testing purpouse"
   ]
  },
  {
   "cell_type": "markdown",
   "metadata": {},
   "source": [
    "### Our Proposal"
   ]
  },
  {
   "cell_type": "code",
   "execution_count": null,
   "metadata": {
    "execution": {
     "iopub.execute_input": "2025-07-06T12:12:20.881236Z",
     "iopub.status.busy": "2025-07-06T12:12:20.880307Z",
     "iopub.status.idle": "2025-07-06T12:12:20.884842Z",
     "shell.execute_reply": "2025-07-06T12:12:20.884241Z",
     "shell.execute_reply.started": "2025-07-06T12:12:20.881209Z"
    },
    "trusted": true
   },
   "outputs": [],
   "source": [
    "test_patches_dir = \"/kaggle/input/camel-inference-dataset\"\n",
    "backbone_weights_dir = '/kaggle/input/camel-backbone-weights/tensorflow2/t05/1/best_backbone.weights.h5'"
   ]
  },
  {
   "cell_type": "code",
   "execution_count": null,
   "metadata": {
    "execution": {
     "iopub.execute_input": "2025-07-06T12:12:20.885744Z",
     "iopub.status.busy": "2025-07-06T12:12:20.885528Z",
     "iopub.status.idle": "2025-07-06T12:12:27.462621Z",
     "shell.execute_reply": "2025-07-06T12:12:27.461800Z",
     "shell.execute_reply.started": "2025-07-06T12:12:20.885729Z"
    },
    "trusted": true
   },
   "outputs": [],
   "source": [
    "backbone = ResNet50(include_top=False, weights=None, pooling=\"avg\")\n",
    "backbone.load_weights(backbone_weights_dir)"
   ]
  },
  {
   "cell_type": "code",
   "execution_count": null,
   "metadata": {
    "execution": {
     "iopub.execute_input": "2025-07-06T12:13:26.496999Z",
     "iopub.status.busy": "2025-07-06T12:13:26.496652Z",
     "iopub.status.idle": "2025-07-06T12:17:32.124271Z",
     "shell.execute_reply": "2025-07-06T12:17:32.123427Z",
     "shell.execute_reply.started": "2025-07-06T12:13:26.496976Z"
    },
    "trusted": true
   },
   "outputs": [
    {
     "name": "stderr",
     "output_type": "stream",
     "text": [
      "Processing epithelioid: 100%|██████████| 4/4 [00:00<00:00,  9.35it/s]\n",
      "Processing biphasic: 100%|██████████| 4/4 [00:00<00:00, 14.27it/s]\n",
      "Extracting features:   0%|          | 0/8 [00:00<?, ?it/s]I0000 00:00:1751804015.576505     109 cuda_dnn.cc:529] Loaded cuDNN version 90300\n",
      "I0000 00:00:1751804015.576576     106 cuda_dnn.cc:529] Loaded cuDNN version 90300\n",
      "Extracting features: 100%|██████████| 8/8 [04:04<00:00, 30.60s/it]\n"
     ]
    }
   ],
   "source": [
    "featuresTest, labelsTest = extract_features(test_patches_dir, backbone, batch_size=256)\n",
    "datasetTest = generate_dataset(featuresTest, labelsTest, num_classes=3, batch_size=1)"
   ]
  },
  {
   "cell_type": "code",
   "execution_count": null,
   "metadata": {
    "execution": {
     "iopub.execute_input": "2025-07-06T12:22:38.116163Z",
     "iopub.status.busy": "2025-07-06T12:22:38.115847Z",
     "iopub.status.idle": "2025-07-06T12:22:38.120016Z",
     "shell.execute_reply": "2025-07-06T12:22:38.119376Z",
     "shell.execute_reply.started": "2025-07-06T12:22:38.116145Z"
    },
    "trusted": true
   },
   "outputs": [],
   "source": [
    "attention_model_dir = \"/kaggle/input/camel-mil-weights/tensorflow2/default/1/best_attention_mil.h5\"\n",
    "\n",
    "mhaMILTest = tf.keras.models.load_model(attention_model_dir)"
   ]
  },
  {
   "cell_type": "code",
   "execution_count": 31,
   "metadata": {
    "execution": {
     "iopub.execute_input": "2025-07-06T12:50:30.164794Z",
     "iopub.status.busy": "2025-07-06T12:50:30.164502Z",
     "iopub.status.idle": "2025-07-06T12:52:23.640196Z",
     "shell.execute_reply": "2025-07-06T12:52:23.639210Z",
     "shell.execute_reply.started": "2025-07-06T12:50:30.164774Z"
    },
    "trusted": true
   },
   "outputs": [
    {
     "name": "stdout",
     "output_type": "stream",
     "text": [
      "❌ Prediction = biphasic\t label = epithelioid\t Probabilities = [0.23667729 0.28411353 0.4792092 ]\n",
      "✅ Prediction = epithelioid\t label = epithelioid\t Probabilities = [0.4369059  0.1610397  0.40205443]\n",
      "✅ Prediction = epithelioid\t label = epithelioid\t Probabilities = [0.5301123  0.29685363 0.17303403]\n",
      "✅ Prediction = biphasic\t label = biphasic\t Probabilities = [0.33682933 0.32479516 0.3383755 ]\n",
      "✅ Prediction = biphasic\t label = biphasic\t Probabilities = [0.3959599  0.20552082 0.39851925]\n",
      "✅ Prediction = biphasic\t label = biphasic\t Probabilities = [0.3405206  0.19309033 0.46638906]\n",
      "✅ Prediction = biphasic\t label = biphasic\t Probabilities = [0.28208977 0.32840988 0.38950038]\n",
      "✅ Prediction = epithelioid\t label = epithelioid\t Probabilities = [0.5088232  0.20911068 0.2820661 ]\n",
      "\n",
      "-------------------\n",
      "Total accuracy: 87.50%\n",
      "-------------------\n",
      "\n",
      "Total miss-classifications per subtype = {'epithelioid': 1, 'sarcomatoid': 0, 'biphasic': 0}\n"
     ]
    }
   ],
   "source": [
    "wrong = {\n",
    "    'epithelioid': 0,\n",
    "    'sarcomatoid': 0,\n",
    "    'biphasic': 0\n",
    "}\n",
    "\n",
    "def hashMapPred(x):\n",
    "    x.astype(np.int64)\n",
    "    labels = ['epithelioid', 'sarcomatoid', 'biphasic']\n",
    "    return labels[x]\n",
    "\n",
    "correct = 0\n",
    "total = 0\n",
    "\n",
    "for x, y in datasetTest:\n",
    "    pred = mhaMILTest.predict(x, verbose=0)[0]\n",
    "    # label corrente: np.argmax(y[0]) return the index 0 in case of 1, 0, 0; the index 1 in case of 0, 1, 0 and so on\n",
    "    label_y = hashMapPred(np.argmax(y[0]))\n",
    "\n",
    "    prediction = hashMapPred(np.argmax(pred))\n",
    "        \n",
    "    if prediction != label_y:\n",
    "        wrong[label_y] += 1\n",
    "    if prediction == label_y:\n",
    "        correct += 1\n",
    "        print(f\"✅ Prediction = {prediction}\\t label = {label_y}\\t Probabilities = {pred}\")\n",
    "    else:\n",
    "        print(f\"❌ Prediction = {prediction}\\t label = {label_y}\\t Probabilities = {pred}\")\n",
    "    total += 1\n",
    "\n",
    "print(f\"\\n-------------------\\nTotal accuracy: {correct/total:.2%}\\n-------------------\\n\")\n",
    "print(f\"Total miss-classifications per subtype = {wrong}\")"
   ]
  },
  {
   "cell_type": "markdown",
   "metadata": {},
   "source": [
    "### Standard CNN\n",
    "- ResNet50 pre-trained on Imagenet, final_pred = mean over patches pred"
   ]
  },
  {
   "cell_type": "code",
   "execution_count": null,
   "metadata": {
    "execution": {
     "iopub.execute_input": "2025-07-05T17:38:02.946924Z",
     "iopub.status.busy": "2025-07-05T17:38:02.946636Z",
     "iopub.status.idle": "2025-07-05T17:38:04.480637Z",
     "shell.execute_reply": "2025-07-05T17:38:04.480087Z",
     "shell.execute_reply.started": "2025-07-05T17:38:02.946898Z"
    },
    "trusted": true
   },
   "outputs": [],
   "source": [
    "standardCNN = ResNet50(include_top=False, weights='imagenet', pooling=\"avg\")"
   ]
  },
  {
   "cell_type": "code",
   "execution_count": null,
   "metadata": {
    "execution": {
     "iopub.execute_input": "2025-07-05T17:25:12.507286Z",
     "iopub.status.busy": "2025-07-05T17:25:12.506578Z",
     "iopub.status.idle": "2025-07-05T17:28:26.400215Z",
     "shell.execute_reply": "2025-07-05T17:28:26.399387Z",
     "shell.execute_reply.started": "2025-07-05T17:25:12.507263Z"
    },
    "trusted": true
   },
   "outputs": [],
   "source": [
    "featuresCNN, labelsCNN = extract_features(test_patches_dir, standardCNN, batch_size=256)\n",
    "datasetCNN = generate_dataset(featuresCNN, labelsCNN, num_classes=3, batch_size=1)"
   ]
  },
  {
   "cell_type": "code",
   "execution_count": null,
   "metadata": {},
   "outputs": [],
   "source": [
    "standardClassifier = tf.keras.Sequential([\n",
    "    tf.keras.Input(shape=(2048,)),\n",
    "    tf.keras.layers.Dense(128, activation='relu'),\n",
    "    tf.keras.layers.Dense(3, activation='softmax')\n",
    "])"
   ]
  },
  {
   "cell_type": "code",
   "execution_count": null,
   "metadata": {},
   "outputs": [],
   "source": [
    "def classify_wsi(wsi_features, classifier_model):\n",
    "    preds = classifier_model.predict(wsi_features, verbose=0) \n",
    "    return np.mean(preds, axis=0)"
   ]
  },
  {
   "cell_type": "code",
   "execution_count": 19,
   "metadata": {
    "execution": {
     "iopub.execute_input": "2025-07-05T17:29:29.378457Z",
     "iopub.status.busy": "2025-07-05T17:29:29.378197Z",
     "iopub.status.idle": "2025-07-05T17:29:34.494313Z",
     "shell.execute_reply": "2025-07-05T17:29:34.493713Z",
     "shell.execute_reply.started": "2025-07-05T17:29:29.378437Z"
    },
    "trusted": true
   },
   "outputs": [
    {
     "name": "stdout",
     "output_type": "stream",
     "text": [
      "WSI classification accuracy = 50.00%\n"
     ]
    }
   ],
   "source": [
    "correct = 0\n",
    "total = 0\n",
    "for x, y in datasetCNN:\n",
    "    x = tf.squeeze(x)\n",
    "    pred = classify_wsi(x, standardClassifier)\n",
    "    pred_label = np.argmax(pred)\n",
    "    true_label = np.argmax(y)\n",
    "    if pred_label == true_label:\n",
    "        correct += 1\n",
    "    total += 1\n",
    "\n",
    "accuracy = correct / total\n",
    "print(f\"WSI classification accuracy = {accuracy:.2%}\")"
   ]
  }
 ],
 "metadata": {
  "colab": {
   "collapsed_sections": [
    "32abfa0f",
    "6d4c2c52"
   ],
   "provenance": []
  },
  "kaggle": {
   "accelerator": "nvidiaTeslaT4",
   "dataSources": [
    {
     "datasetId": 7442459,
     "sourceId": 11845302,
     "sourceType": "datasetVersion"
    },
    {
     "datasetId": 7796456,
     "sourceId": 12375455,
     "sourceType": "datasetVersion"
    },
    {
     "isSourceIdPinned": false,
     "modelId": 393265,
     "modelInstanceId": 372387,
     "sourceId": 459495,
     "sourceType": "modelInstanceVersion"
    },
    {
     "isSourceIdPinned": false,
     "modelId": 393365,
     "modelInstanceId": 372492,
     "sourceId": 459740,
     "sourceType": "modelInstanceVersion"
    }
   ],
   "dockerImageVersionId": 31041,
   "isGpuEnabled": true,
   "isInternetEnabled": true,
   "language": "python",
   "sourceType": "notebook"
  },
  "kernelspec": {
   "display_name": "Python 3",
   "language": "python",
   "name": "python3"
  },
  "language_info": {
   "codemirror_mode": {
    "name": "ipython",
    "version": 3
   },
   "file_extension": ".py",
   "mimetype": "text/x-python",
   "name": "python",
   "nbconvert_exporter": "python",
   "pygments_lexer": "ipython3",
   "version": "3.11.11"
  }
 },
 "nbformat": 4,
 "nbformat_minor": 4
}
