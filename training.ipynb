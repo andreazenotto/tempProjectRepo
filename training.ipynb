{
 "cells": [
  {
   "cell_type": "code",
   "execution_count": null,
   "metadata": {
    "execution": {
     "iopub.execute_input": "2025-07-09T14:46:53.299514Z",
     "iopub.status.busy": "2025-07-09T14:46:53.299257Z",
     "iopub.status.idle": "2025-07-09T14:47:13.668114Z",
     "shell.execute_reply": "2025-07-09T14:47:13.667276Z",
     "shell.execute_reply.started": "2025-07-09T14:46:53.299495Z"
    },
    "id": "ce9e789b",
    "trusted": true
   },
   "outputs": [],
   "source": [
    "import os\n",
    "from tqdm import tqdm\n",
    "import sys\n",
    "import shutil\n",
    "import numpy as np\n",
    "import tensorflow as tf\n",
    "\n",
    "tf.keras.utils.set_random_seed(10)\n",
    "tf.config.experimental.enable_op_determinism()\n",
    "\n",
    "!git clone https://github.com/andreazenotto/tempProjectRepo.git\n",
    "\n",
    "sys.path.append('tempProjectRepo/mesothelioma_project/src')\n",
    "\n",
    "from simclr import train_simclr\n",
    "from attention_mil import train_attention_mil"
   ]
  },
  {
   "cell_type": "markdown",
   "metadata": {},
   "source": [
    "## Training of ResNet50 backbone with Contrastive Learning"
   ]
  },
  {
   "cell_type": "code",
   "execution_count": 2,
   "metadata": {
    "execution": {
     "iopub.execute_input": "2025-07-07T16:05:30.350806Z",
     "iopub.status.busy": "2025-07-07T16:05:30.349934Z",
     "iopub.status.idle": "2025-07-07T16:05:30.355715Z",
     "shell.execute_reply": "2025-07-07T16:05:30.354630Z",
     "shell.execute_reply.started": "2025-07-07T16:05:30.350780Z"
    },
    "trusted": true
   },
   "outputs": [],
   "source": [
    "dataset_dir = \"/kaggle/input/camel-dataset\""
   ]
  },
  {
   "cell_type": "code",
   "execution_count": null,
   "metadata": {
    "execution": {
     "execution_failed": "2025-07-07T16:17:59.239Z",
     "iopub.execute_input": "2025-07-07T16:05:30.357026Z",
     "iopub.status.busy": "2025-07-07T16:05:30.356749Z"
    },
    "trusted": true
   },
   "outputs": [],
   "source": [
    "train_simclr(dataset_dir, start_epoch = 0, end_epoch = 40)"
   ]
  },
  {
   "cell_type": "markdown",
   "metadata": {},
   "source": [
    "## Training of MultiHead Attention for Multiple Instance Learning"
   ]
  },
  {
   "cell_type": "code",
   "execution_count": null,
   "metadata": {},
   "outputs": [],
   "source": [
    "backbone_weights_dir = 'best_backbone.weights.h5'"
   ]
  },
  {
   "cell_type": "code",
   "execution_count": null,
   "metadata": {},
   "outputs": [],
   "source": [
    "train_attention_mil(patches_dir = dataset_dir, \n",
    "                    backbone_weights_dir = backbone_weights_dir, \n",
    "                    num_epochs = 20)"
   ]
  }
 ],
 "metadata": {
  "colab": {
   "collapsed_sections": [
    "32abfa0f",
    "6d4c2c52"
   ],
   "provenance": []
  },
  "kaggle": {
   "accelerator": "nvidiaTeslaT4",
   "dataSources": [
    {
     "datasetId": 7442459,
     "sourceId": 12401004,
     "sourceType": "datasetVersion"
    },
    {
     "isSourceIdPinned": true,
     "modelId": 396564,
     "modelInstanceId": 375782,
     "sourceId": 465746,
     "sourceType": "modelInstanceVersion"
    }
   ],
   "dockerImageVersionId": 31041,
   "isGpuEnabled": true,
   "isInternetEnabled": true,
   "language": "python",
   "sourceType": "notebook"
  },
  "kernelspec": {
   "display_name": "Python 3",
   "language": "python",
   "name": "python3"
  },
  "language_info": {
   "codemirror_mode": {
    "name": "ipython",
    "version": 3
   },
   "file_extension": ".py",
   "mimetype": "text/x-python",
   "name": "python",
   "nbconvert_exporter": "python",
   "pygments_lexer": "ipython3",
   "version": "3.11.11"
  }
 },
 "nbformat": 4,
 "nbformat_minor": 4
}
