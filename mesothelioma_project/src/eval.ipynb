{
 "cells": [
  {
   "cell_type": "code",
   "execution_count": null,
   "id": "c8e7fe7a",
   "metadata": {},
   "outputs": [],
   "source": [
    "from wsi_utils import *\n",
    "from attention_mil import *"
   ]
  },
  {
   "cell_type": "code",
   "execution_count": null,
   "id": "78b8685d",
   "metadata": {},
   "outputs": [],
   "source": [
    "wsi_path = \"\"\n",
    "patches_dir = \"\"\n",
    "backbone_dir = \"\"\n",
    "features_path = \"\"\n",
    "attention_mil_dir = \"\""
   ]
  },
  {
   "cell_type": "code",
   "execution_count": null,
   "id": "eae588aa",
   "metadata": {},
   "outputs": [],
   "source": [
    "extract_patches(load_wsi(wsi_path), patches_dir, level=1, threshold=30, patch_size=(224, 224))\n",
    "backbone = load_model(backbone_dir)\n",
    "extract_and_save_features(patches_dir, backbone, features_path, batch_size=128)\n",
    "features, labels = load_npz_data(features_path)\n",
    "attention_mil = load_attention_mil_model(attention_mil_dir, features[0].shape[-1])\n",
    "dataset = generate_dataset(features, labels)\n",
    "prediction = attention_mil(features)\n",
    "print(\"Prediction shape:\", prediction.shape)\n",
    "print(\"Prediction:\", prediction)"
   ]
  }
 ],
 "metadata": {
  "kernelspec": {
   "display_name": "Python 3",
   "language": "python",
   "name": "python3"
  },
  "language_info": {
   "name": "python",
   "version": "3.12.0"
  }
 },
 "nbformat": 4,
 "nbformat_minor": 5
}
